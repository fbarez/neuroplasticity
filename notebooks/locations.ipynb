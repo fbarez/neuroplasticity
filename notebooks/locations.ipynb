{
 "cells": [
  {
   "cell_type": "code",
   "execution_count": 1,
   "metadata": {},
   "outputs": [],
   "source": [
    "import sys\n",
    "sys.path.append(\"..\")"
   ]
  },
  {
   "attachments": {},
   "cell_type": "markdown",
   "metadata": {},
   "source": [
    "Fine tune a pretrained DistilBert model on dataset (`conll2003`) for named entity recognition. This will be our basic starting model."
   ]
  },
  {
   "cell_type": "code",
   "execution_count": null,
   "metadata": {},
   "outputs": [],
   "source": [
    "from src.models.train_model import train_model\n",
    "from src.features.build_features import load_token_class_dataset\n",
    "\n",
    "dataset = load_token_class_dataset()\n",
    "model_trainer = train_model()"
   ]
  },
  {
   "cell_type": "code",
   "execution_count": null,
   "metadata": {},
   "outputs": [],
   "source": [
    "from src.models.evaluate_model import evaluate\n",
    "from src.visualization.visualize import get_basic_model\n",
    "\n",
    "# Train and evaluate a basic model on pretrained DistilBert\n",
    "basic_model = get_basic_model(model_trainer)\n",
    "evaluate(basic_model, dataset[\"validation\"])"
   ]
  },
  {
   "attachments": {},
   "cell_type": "markdown",
   "metadata": {},
   "source": [
    "Identify concept neurons in the basic model associated with location names."
   ]
  },
  {
   "cell_type": "code",
   "execution_count": null,
   "metadata": {},
   "outputs": [],
   "source": [
    "from src import basic_model_path, basic_activations_path\n",
    "from src.visualization.analyse_model import analyse_model\n",
    "\n",
    "# Identify neurons in the basic model to ablate\n",
    "basic_analyser = analyse_model(basic_model_path, basic_activations_path)"
   ]
  },
  {
   "cell_type": "code",
   "execution_count": null,
   "metadata": {},
   "outputs": [],
   "source": [
    "neurons_to_prune = basic_analyser.identify_concept_neurons()"
   ]
  },
  {
   "cell_type": "code",
   "execution_count": null,
   "metadata": {},
   "outputs": [],
   "source": [
    "basic_analyser.show_top_words(neurons_to_prune)"
   ]
  },
  {
   "attachments": {},
   "cell_type": "markdown",
   "metadata": {},
   "source": [
    "Prune the identified concept neurons from the model by setting their weights to zero."
   ]
  },
  {
   "cell_type": "code",
   "execution_count": null,
   "metadata": {},
   "outputs": [],
   "source": [
    "from src import basic_model_path, pruned_model_path\n",
    "from src.models.prune_model import prune_model\n",
    "from src.models.evaluate_model import evaluate\n",
    "from src.visualization.visualize import get_pruned_model\n",
    "\n",
    "# If the model has been saved\n",
    "pruned_model = get_pruned_model(pruned_model_path, model_trainer)\n",
    "\n",
    "# Ablate neurons\n",
    "# pruned_model = prune_model(basic_model_path, model_trainer, neurons_to_prune)\n",
    "# pruned_model.save_pretrained(pruned_model_path)\n",
    "evaluate(pruned_model, dataset[\"validation\"])"
   ]
  },
  {
   "attachments": {},
   "cell_type": "markdown",
   "metadata": {},
   "source": [
    "Retrain the pruned model until performance recovers. Examine:\n",
    "\n",
    "- In which neurons does the concept of location names reappear in the pruned model?\n",
    "- Is there any relation between the new concept (location names) and what concepts originally existed in these neurons?"
   ]
  },
  {
   "cell_type": "code",
   "execution_count": null,
   "metadata": {},
   "outputs": [],
   "source": [
    "from src import pruned_model_path, retrained_model_path\n",
    "from src.visualization.visualize import get_retrained_model\n",
    "\n",
    "# Retrain the pruned model\n",
    "retrained_model = get_retrained_model(retrained_model_path, pruned_model_path, model_trainer)"
   ]
  },
  {
   "cell_type": "code",
   "execution_count": null,
   "metadata": {},
   "outputs": [],
   "source": [
    "from src import retrained_model_path, retrained_activations_path\n",
    "from src.visualization.analyse_model import analyse_model\n",
    "\n",
    "# Examine the retrained model for concepts and compare with old model\n",
    "retrained_analyser = analyse_model(retrained_model_path, retrained_activations_path)"
   ]
  },
  {
   "cell_type": "code",
   "execution_count": null,
   "metadata": {},
   "outputs": [],
   "source": [
    "new_concept_neurons = retrained_analyser.identify_concept_neurons()"
   ]
  },
  {
   "cell_type": "code",
   "execution_count": null,
   "metadata": {},
   "outputs": [],
   "source": [
    "retrained_analyser.show_top_words(new_concept_neurons)\n",
    "basic_analyser.show_top_words(new_concept_neurons)"
   ]
  }
 ],
 "metadata": {
  "kernelspec": {
   "display_name": "base",
   "language": "python",
   "name": "python3"
  },
  "language_info": {
   "codemirror_mode": {
    "name": "ipython",
    "version": 3
   },
   "file_extension": ".py",
   "mimetype": "text/x-python",
   "name": "python",
   "nbconvert_exporter": "python",
   "pygments_lexer": "ipython3",
   "version": "3.10.11"
  },
  "orig_nbformat": 4,
  "vscode": {
   "interpreter": {
    "hash": "b5e41485b8e0f2ab06ac46285f33861aecb732c615f145e30680eb2f5fda2553"
   }
  }
 },
 "nbformat": 4,
 "nbformat_minor": 2
}
