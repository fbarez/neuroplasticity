{
 "cells": [
  {
   "cell_type": "code",
   "execution_count": null,
   "metadata": {},
   "outputs": [],
   "source": [
    "import sys\n",
    "sys.path.append(\"..\")\n",
    "import pandas as pd"
   ]
  },
  {
   "attachments": {},
   "cell_type": "markdown",
   "metadata": {},
   "source": [
    "Create saliency heatmaps for entire base model, zoomed in base model and zoomed in final retrained model."
   ]
  },
  {
   "cell_type": "code",
   "execution_count": null,
   "metadata": {},
   "outputs": [],
   "source": [
    "from src import BASE_CONCEPT_PATH\n",
    "from src.visualization.results_utils import build_heatmap_data, build_heatmap_figure\n",
    "\n",
    "base_df = pd.read_csv(BASE_CONCEPT_PATH)\n",
    "base_set_df = base_df[['neuron-id','current_concepts']]\n",
    "\n",
    "base_heatdf = build_heatmap_data(base_set_df, 768 * 7)\n",
    "build_heatmap_figure(base_heatdf, \"base_orig_heatmap\", True)"
   ]
  },
  {
   "cell_type": "code",
   "execution_count": null,
   "metadata": {},
   "outputs": [],
   "source": [
    "from src import BASE_CONCEPT_PATH\n",
    "from src.visualization.results_utils import build_heatmap_data, build_zoom_heatmap_figure\n",
    "\n",
    "base_df = pd.read_csv(BASE_CONCEPT_PATH)\n",
    "base_set_df = base_df[['neuron-id','current_concepts']]\n",
    "\n",
    "base_heatdf = build_heatmap_data(base_set_df, 768 * 7)\n",
    "build_zoom_heatmap_figure(base_heatdf, \"base_orig_heatmap_zoom\", True)"
   ]
  },
  {
   "cell_type": "code",
   "execution_count": null,
   "metadata": {},
   "outputs": [],
   "source": [
    "from src import PROCESSED_4\n",
    "from src.visualization.results_utils import build_heatmap_data, build_zoom_heatmap_figure\n",
    "\n",
    "retrain_4_df = pd.read_csv(PROCESSED_4)\n",
    "retrain_4_set_df = retrain_4_df[['neuron-id','current_concepts']]\n",
    "\n",
    "retrain_4_heatdf = build_heatmap_data(retrain_4_set_df, 768 * 7)\n",
    "build_zoom_heatmap_figure(retrain_4_heatdf, \"retrain_4_heatmap_zoom\", True)"
   ]
  }
 ],
 "metadata": {
  "kernelspec": {
   "display_name": "venv",
   "language": "python",
   "name": "python3"
  },
  "language_info": {
   "name": "python",
   "version": "3.10.11"
  },
  "orig_nbformat": 4
 },
 "nbformat": 4,
 "nbformat_minor": 2
}
