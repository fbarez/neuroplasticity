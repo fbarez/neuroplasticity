{
 "cells": [
  {
   "cell_type": "code",
   "execution_count": null,
   "metadata": {},
   "outputs": [],
   "source": [
    "import sys\n",
    "sys.path.append(\"..\")\n",
    "\n",
    "import numpy as np\n",
    "import pandas as pd\n",
    "import seaborn as sns\n",
    "\n",
    "import ast\n",
    "import matplotlib.pyplot as plt\n",
    "import matplotlib as mpl\n",
    "%matplotlib inline\n",
    "import re"
   ]
  },
  {
   "cell_type": "code",
   "execution_count": null,
   "metadata": {},
   "outputs": [],
   "source": [
    "# Normalised measurement of saliency ranking out of total number of neurons\n",
    "def measure_concept_relevance(row_index, total_neurons):\n",
    "    min_rank = total_neurons / 100\n",
    "    max_rank = 1\n",
    "    percentile, _ = divmod(row_index, 100)\n",
    "    rank = percentile + 1\n",
    "    normalized_rank = (rank - min_rank) / (max_rank - min_rank)\n",
    "    return abs(normalized_rank)\n",
    "\n",
    "# Ignore words with '\\x80' (NULL)\n",
    "def has_word_starting_with_backslash(word_list):\n",
    "    for word in word_list:\n",
    "        if not word.isalpha():\n",
    "            return True\n",
    "    return False\n",
    "\n",
    "# Convert into grid of 7 * 768 neurons with saliency values\n",
    "def build_heatmap_data(p, total_neurons):\n",
    "    heat_data = [[float('NaN')] * 768 for _ in range(6)]\n",
    "    heatdf = pd.DataFrame(heat_data)\n",
    "    for index, row in p.iterrows():\n",
    "        nid = row['neuron-id']\n",
    "        layer_id, neuron_index = divmod(nid, 768)\n",
    "        string_data = row[\"current_concepts\"]\n",
    "        words = [word for word, _ in ast.literal_eval(string_data)]\n",
    "        if not has_word_starting_with_backslash(words):\n",
    "            heatdf.loc[layer_id, neuron_index] = measure_concept_relevance(index, total_neurons)\n",
    "    return heatdf\n",
    "\n",
    "def build_heatmap_figure(df, name, save=False):\n",
    "    # Set the width and height of the figure\n",
    "    plt.figure(figsize=(30,10))\n",
    "\n",
    "    # Heatmap showing average arrival delay for each airline by month\n",
    "    cmap = mpl.colormaps['coolwarm']\n",
    "    cmap.set_bad('black')\n",
    "    sns.heatmap(data=df, cmap=cmap)\n",
    "\n",
    "    plt.xlabel(\"Neuron index\")\n",
    "    plt.ylabel(\"Layer\")\n",
    "    \n",
    "    if save:\n",
    "        plt.savefig(f'{name}.pdf', bbox_inches='tight')\n",
    "        \n",
    "def build_zoom_heatmap_figure(df, name, save=False):\n",
    "    # Set the width and height of the figure\n",
    "    plt.figure(figsize=(5,5))\n",
    "    \n",
    "    # Slice the dataframe to show\n",
    "    data = df.iloc[:, 360:391]\n",
    "\n",
    "    # Heatmap showing average arrival delay for each airline by month\n",
    "    cmap = mpl.colormaps['coolwarm']\n",
    "    cmap.set_bad('black')\n",
    "    sns.heatmap(data=data, cmap=cmap, vmin=0, vmax=1)\n",
    "\n",
    "    plt.xlabel(\"Neuron index\")\n",
    "    plt.ylabel(\"Layer\")\n",
    "    \n",
    "    if save:\n",
    "        plt.savefig(f'{name}.pdf')"
   ]
  },
  {
   "attachments": {},
   "cell_type": "markdown",
   "metadata": {},
   "source": [
    "Create saliency heatmaps for entire base model, zoomed in base model and zoomed in final retrained model."
   ]
  },
  {
   "cell_type": "code",
   "execution_count": null,
   "metadata": {},
   "outputs": [],
   "source": [
    "from src import BASE_CONCEPT_PATH\n",
    "\n",
    "base_df = pd.read_csv(BASE_CONCEPT_PATH)\n",
    "base_set_df = base_df[['neuron-id','current_concepts']]\n",
    "\n",
    "base_heatdf = build_heatmap_data(base_set_df, 768 * 7)\n",
    "build_heatmap_figure(base_heatdf, \"base_orig_heatmap\", True)"
   ]
  },
  {
   "cell_type": "code",
   "execution_count": null,
   "metadata": {},
   "outputs": [],
   "source": [
    "from src import BASE_CONCEPT_PATH\n",
    "\n",
    "base_df = pd.read_csv(BASE_CONCEPT_PATH)\n",
    "base_set_df = base_df[['neuron-id','current_concepts']]\n",
    "\n",
    "base_heatdf = build_heatmap_data(base_set_df, 768 * 7)\n",
    "build_zoom_heatmap_figure(base_heatdf, \"base_orig_heatmap_zoom\", True)"
   ]
  },
  {
   "cell_type": "code",
   "execution_count": null,
   "metadata": {},
   "outputs": [],
   "source": [
    "from src import PROCESSED_4\n",
    "\n",
    "retrain_4_df = pd.read_csv(PROCESSED_4)\n",
    "retrain_4_set_df = retrain_4_df[['neuron-id','current_concepts']]\n",
    "\n",
    "retrain_4_heatdf = build_heatmap_data(retrain_4_set_df, 768 * 7)\n",
    "build_zoom_heatmap_figure(retrain_4_heatdf, \"retrain_4_heatmap_zoom\", True)"
   ]
  }
 ],
 "metadata": {
  "kernelspec": {
   "display_name": "venv",
   "language": "python",
   "name": "python3"
  },
  "language_info": {
   "name": "python",
   "version": "3.10.11"
  },
  "orig_nbformat": 4
 },
 "nbformat": 4,
 "nbformat_minor": 2
}
