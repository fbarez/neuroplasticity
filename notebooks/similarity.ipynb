{
 "cells": [
  {
   "cell_type": "code",
   "execution_count": null,
   "metadata": {},
   "outputs": [],
   "source": [
    "import sys\n",
    "sys.path.append(\"..\")\n",
    "\n",
    "import numpy as np\n",
    "import pandas as pd\n",
    "import seaborn as sns\n",
    "\n",
    "import ast\n",
    "import matplotlib.pyplot as plt\n",
    "import matplotlib as mpl\n",
    "%matplotlib inline\n",
    "import re"
   ]
  },
  {
   "cell_type": "code",
   "execution_count": null,
   "metadata": {},
   "outputs": [],
   "source": [
    "import ast\n",
    "import matplotlib.pyplot as plt\n",
    "import matplotlib as mpl\n",
    "%matplotlib inline\n",
    "\n",
    "def build_sim_data(df):\n",
    "    heat_data = [[float('NaN')] * 768 for _ in range(6)]\n",
    "    heatdf = pd.DataFrame(heat_data)\n",
    "    for index, row in df.iterrows():\n",
    "        nid = row['neuron-id']\n",
    "        layer_id, neuron_index = divmod(nid, 768)\n",
    "        # If nothing changed, exclude\n",
    "        pre_words = set(ast.literal_eval(row['pre_words']))\n",
    "        post_words = set(ast.literal_eval(row['post_words']))\n",
    "        if pre_words != post_words:\n",
    "            heatdf.loc[layer_id, neuron_index] = row['similarity']\n",
    "    return heatdf\n",
    "\n",
    "def build_sim_heatmap_figure(df, name, save=False):\n",
    "    # Set the width and height of the figure\n",
    "    plt.figure(figsize=(30,7))\n",
    "\n",
    "    # Heatmap showing average arrival delay for each airline by month\n",
    "    cmap = mpl.colormaps['seismic']\n",
    "    cmap.set_bad('black')\n",
    "    sns.heatmap(data=df, vmin=-1, vmax=1, cmap=cmap)\n",
    "\n",
    "    plt.xlabel(\"Neuron index\")\n",
    "    plt.ylabel(\"Layer\")\n",
    "    \n",
    "    if save:\n",
    "        plt.savefig(f'{name}.pdf')\n",
    "\n",
    "def build_zoom_sim_heatmap_figure(df, name, save=False):\n",
    "    # Set the width and height of the figure\n",
    "    plt.figure(figsize=(5,5))\n",
    "    \n",
    "    # Slice the dataframe to show\n",
    "    data = df.iloc[:, 360:391]\n",
    "\n",
    "    # Heatmap showing average arrival delay for each airline by month\n",
    "    cmap = mpl.colormaps['seismic']\n",
    "    cmap.set_bad('black')\n",
    "    sns.heatmap(data=data, vmin=-1, vmax=1, cmap=cmap)\n",
    "\n",
    "    plt.xlabel(\"Neuron index\")\n",
    "    plt.ylabel(\"Layer\")\n",
    "    \n",
    "    if save:\n",
    "        plt.savefig(f'{name}.pdf')"
   ]
  },
  {
   "attachments": {},
   "cell_type": "markdown",
   "metadata": {},
   "source": [
    "Create similarity heatmaps for entire model after 2 epochs of retraining, zoomed in model after 2 epochs of retraining and zoomed in final retrained model."
   ]
  },
  {
   "cell_type": "code",
   "execution_count": null,
   "metadata": {},
   "outputs": [],
   "source": [
    "from src import SIMILARITY_1\n",
    "\n",
    "retrain_1_sim_df = pd.read_csv(SIMILARITY_1)\n",
    "retrain_1_sim_heatdf = build_sim_data(retrain_1_sim_df)\n",
    "build_sim_heatmap_figure(retrain_1_sim_heatdf, \"retrain_1_sim_heatmap\", True)"
   ]
  },
  {
   "cell_type": "code",
   "execution_count": null,
   "metadata": {},
   "outputs": [],
   "source": [
    "from src import SIMILARITY_1\n",
    "\n",
    "retrain_1_sim_df = pd.read_csv(SIMILARITY_1)\n",
    "retrain_1_sim_heatdf = build_sim_data(retrain_1_sim_df)\n",
    "build_zoom_sim_heatmap_figure(retrain_1_sim_heatdf, \"retrain_1_sim_heatmap_zoom\", True)"
   ]
  },
  {
   "cell_type": "code",
   "execution_count": null,
   "metadata": {},
   "outputs": [],
   "source": [
    "from src import SIMILARITY_4\n",
    "\n",
    "retrain_4_sim_df = pd.read_csv(SIMILARITY_4)\n",
    "retrain_4_sim_heatdf = build_sim_data(retrain_4_sim_df)\n",
    "build_zoom_sim_heatmap_figure(retrain_4_sim_heatdf, \"retrain_4_sim_heatmap_zoom\", True)"
   ]
  }
 ],
 "metadata": {
  "language_info": {
   "name": "python"
  },
  "orig_nbformat": 4
 },
 "nbformat": 4,
 "nbformat_minor": 2
}
