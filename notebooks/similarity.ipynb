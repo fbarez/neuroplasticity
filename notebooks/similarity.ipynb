{
 "cells": [
  {
   "cell_type": "code",
   "execution_count": null,
   "metadata": {},
   "outputs": [],
   "source": [
    "import sys\n",
    "sys.path.append(\"..\")\n",
    "import pandas as pd"
   ]
  },
  {
   "attachments": {},
   "cell_type": "markdown",
   "metadata": {},
   "source": [
    "Create similarity heatmaps for entire model after 2 epochs of retraining, zoomed in model after 2 epochs of retraining and zoomed in final retrained model."
   ]
  },
  {
   "cell_type": "code",
   "execution_count": null,
   "metadata": {},
   "outputs": [],
   "source": [
    "from src import SIMILARITY_1\n",
    "from src.visualization.results_utils import build_sim_data, build_sim_heatmap_figure\n",
    "\n",
    "retrain_1_sim_df = pd.read_csv(SIMILARITY_1)\n",
    "retrain_1_sim_heatdf = build_sim_data(retrain_1_sim_df)\n",
    "build_sim_heatmap_figure(retrain_1_sim_heatdf, \"retrain_1_sim_heatmap\", True)"
   ]
  },
  {
   "cell_type": "code",
   "execution_count": null,
   "metadata": {},
   "outputs": [],
   "source": [
    "from src import SIMILARITY_1\n",
    "from src.visualization.results_utils import build_sim_data, build_zoom_sim_heatmap_figure\n",
    "\n",
    "retrain_1_sim_df = pd.read_csv(SIMILARITY_1)\n",
    "retrain_1_sim_heatdf = build_sim_data(retrain_1_sim_df)\n",
    "build_zoom_sim_heatmap_figure(retrain_1_sim_heatdf, \"retrain_1_sim_heatmap_zoom\", True)"
   ]
  },
  {
   "cell_type": "code",
   "execution_count": null,
   "metadata": {},
   "outputs": [],
   "source": [
    "from src import SIMILARITY_4\n",
    "from src.visualization.results_utils import build_sim_data, build_zoom_sim_heatmap_figure\n",
    "\n",
    "retrain_4_sim_df = pd.read_csv(SIMILARITY_4)\n",
    "retrain_4_sim_heatdf = build_sim_data(retrain_4_sim_df)\n",
    "build_zoom_sim_heatmap_figure(retrain_4_sim_heatdf, \"retrain_4_sim_heatmap_zoom\", True)"
   ]
  }
 ],
 "metadata": {
  "language_info": {
   "name": "python"
  },
  "orig_nbformat": 4
 },
 "nbformat": 4,
 "nbformat_minor": 2
}
